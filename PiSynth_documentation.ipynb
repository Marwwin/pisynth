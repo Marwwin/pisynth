{
 "metadata": {
  "language_info": {
   "codemirror_mode": {
    "name": "ipython",
    "version": 3
   },
   "file_extension": ".py",
   "mimetype": "text/x-python",
   "name": "python",
   "nbconvert_exporter": "python",
   "pygments_lexer": "ipython3",
   "version": "3.8.5-final"
  },
  "orig_nbformat": 2,
  "kernelspec": {
   "name": "python3",
   "display_name": "Python 3.8.5 64-bit ('.anaconda3': conda)",
   "metadata": {
    "interpreter": {
     "hash": "9730d4e14580af6693c9be97b0734ad9d33265078e78d216b0812ccc0fcb6f51"
    }
   }
  }
 },
 "nbformat": 4,
 "nbformat_minor": 2,
 "cells": [
  {
   "source": [
    "# PiSynth 10.3\n",
    "\n",
    "### Markus Kankkonen"
   ],
   "cell_type": "markdown",
   "metadata": {}
  },
  {
   "source": [
    "## Getting started with Supriya\n",
    "- Create Server, Boot server and create a Group"
   ],
   "cell_type": "markdown",
   "metadata": {}
  },
  {
   "cell_type": "code",
   "execution_count": 5,
   "metadata": {},
   "outputs": [],
   "source": [
    "import supriya\n",
    "\n",
    "server = supriya.Server.default()\n",
    "server.boot()\n",
    "\n",
    "group = supriya.realtime.Group().allocate()\n"
   ]
  },
  {
   "source": [
    "###  Creating a synthdef\n",
    "\n",
    "- Create a builder object with arguments\n",
    "- with builder: creates the logic of the synth\n",
    "- synthdef = builder.build().allocate() sends the synthdef to the server.\n",
    "- server.sync() syncs the server"
   ],
   "cell_type": "markdown",
   "metadata": {}
  },
  {
   "source": [
    "builder = supriya.synthdefs.SynthDefBuilder( amplitude=1.0, frequency=440.0, gate=1.0, )\n",
    "\n",
    "with builder: \n",
    "  source = supriya.ugens.SinOsc.ar( frequency = builder['frequency'],) \n",
    "  envelope = supriya.ugens.EnvGen.kr( done_action = supriya.DoneAction.FREE_SYNTH,envelope = supriya.synthdefs.Envelope.asr(), gate = builder['gate'], ) \n",
    "  source = source * builder['amplitude']\n",
    "  source = source * envelope \n",
    "  out = supriya.ugens.Out.ar( bus=0, source=source, )\n",
    "\n",
    "synthdef = builder.build().allocate()\n",
    "\n",
    "server.sync()\n"
   ],
   "cell_type": "code",
   "metadata": {},
   "execution_count": 6,
   "outputs": [
    {
     "output_type": "execute_result",
     "data": {
      "text/plain": [
       "<Server: udp://127.0.0.1:57110, 8i8o>"
      ]
     },
     "metadata": {},
     "execution_count": 6
    }
   ]
  },
  {
   "source": [
    "### Creating a synth out of the synthDef"
   ],
   "cell_type": "markdown",
   "metadata": {}
  },
  {
   "source": [
    "\n",
    "synth = supriya.Synth(synthdef)\n",
    "synth"
   ],
   "cell_type": "code",
   "metadata": {},
   "execution_count": 7,
   "outputs": [
    {
     "output_type": "execute_result",
     "data": {
      "text/plain": [
       "<- Synth: ???>"
      ]
     },
     "metadata": {},
     "execution_count": 7
    }
   ]
  },
  {
   "source": [
    "### Allocate the synth to the server on the previously created group"
   ],
   "cell_type": "markdown",
   "metadata": {}
  },
  {
   "cell_type": "code",
   "execution_count": 8,
   "metadata": {},
   "outputs": [
    {
     "output_type": "execute_result",
     "data": {
      "text/plain": [
       "<+ Synth: 1001>"
      ]
     },
     "metadata": {},
     "execution_count": 8
    }
   ],
   "source": [
    "group.append(synth)\n",
    "synth"
   ]
  },
  {
   "source": [
    "### Querying the servers node tree"
   ],
   "cell_type": "markdown",
   "metadata": {}
  },
  {
   "cell_type": "code",
   "execution_count": 9,
   "metadata": {},
   "outputs": [
    {
     "output_type": "stream",
     "name": "stdout",
     "text": [
      "NODE TREE 0 group\n    1 group\n        1000 group\n            1001 7095304975372a32297e8dd4dc6eff11\n                amplitude: 1.0, frequency: 440.0, gate: 1.0\n"
     ]
    }
   ],
   "source": [
    "response = server.query_remote_nodes(include_controls=True)\n",
    "print(response)"
   ]
  },
  {
   "source": [
    "### Release synth and quit server"
   ],
   "cell_type": "markdown",
   "metadata": {}
  },
  {
   "cell_type": "code",
   "execution_count": 10,
   "metadata": {},
   "outputs": [
    {
     "output_type": "execute_result",
     "data": {
      "text/plain": [
       "<+ Synth: 1001>"
      ]
     },
     "metadata": {},
     "execution_count": 10
    }
   ],
   "source": [
    "synth.release()"
   ]
  },
  {
   "source": [
    "server.quit()"
   ],
   "cell_type": "code",
   "metadata": {},
   "execution_count": null,
   "outputs": []
  },
  {
   "source": [
    "- I can't get this to work on Windows, problem with some C function that is not available on non-unix platforms.\n",
    "- On Linux to get some sound out of the server you need to setup your Jack connection so that the out from the Supercollider server goes to the systems playback. When you start a new one Jack will most likely default to not being connected. \n",
    "\n",
    "<img src=\"jack_connections.png\">"
   ],
   "cell_type": "markdown",
   "metadata": {}
  },
  {
   "source": [
    "- Get group with controls for each node\n",
    "\n",
    "```\n",
    "    response = s.query_remote_nodes(include_controls=True)\n",
    "    print(response)\n",
    "```\n",
    "- Get id of a synth & how to send message to that synth.\n",
    "- You have to sync the server otherwise it won't do anything\n",
    "```\n",
    "    synth_id = synth.node_id\n",
    "    s.send([\"/n_set\",synth_id,\"frequency\",1000])\n",
    "    s.sync()\n",
    "```\n",
    "- LinLin\n",
    "```\n",
    "    supriya.ugens.LinLin.ar([0,1,2,3,4,5],0,5,0,10)\n",
    "```"
   ],
   "cell_type": "markdown",
   "metadata": {}
  },
  {
   "source": [],
   "cell_type": "markdown",
   "metadata": {}
  },
  {
   "cell_type": "code",
   "execution_count": null,
   "metadata": {},
   "outputs": [],
   "source": []
  }
 ]
}